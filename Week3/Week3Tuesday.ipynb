{
 "cells": [
  {
   "cell_type": "code",
   "execution_count": 1,
   "id": "f6677d66-80e2-4cba-983c-b4e806708f61",
   "metadata": {
    "tags": []
   },
   "outputs": [],
   "source": [
    "# Lecture 4/18"
   ]
  },
  {
   "cell_type": "code",
   "execution_count": null,
   "id": "b7e57d2e-a7dc-40cf-8ce8-41a14665b4f8",
   "metadata": {},
   "outputs": [],
   "source": [
    "# Install and import pandas"
   ]
  },
  {
   "cell_type": "code",
   "execution_count": 2,
   "id": "6863a023-dc66-48a9-bc7e-be30faf9aec6",
   "metadata": {
    "tags": []
   },
   "outputs": [
    {
     "name": "stdout",
     "output_type": "stream",
     "text": [
      "Requirement already satisfied: pandas in /opt/conda/lib/python3.10/site-packages (1.5.3)\n",
      "Requirement already satisfied: python-dateutil>=2.8.1 in /opt/conda/lib/python3.10/site-packages (from pandas) (2.8.2)\n",
      "Requirement already satisfied: pytz>=2020.1 in /opt/conda/lib/python3.10/site-packages (from pandas) (2022.7.1)\n",
      "Requirement already satisfied: numpy>=1.21.0 in /opt/conda/lib/python3.10/site-packages (from pandas) (1.24.2)\n",
      "Requirement already satisfied: six>=1.5 in /opt/conda/lib/python3.10/site-packages (from python-dateutil>=2.8.1->pandas) (1.16.0)\n"
     ]
    }
   ],
   "source": [
    "!pip install pandas"
   ]
  },
  {
   "cell_type": "code",
   "execution_count": 3,
   "id": "7509f1a1-3871-4a31-9c08-71636fd74b60",
   "metadata": {
    "tags": []
   },
   "outputs": [],
   "source": [
    "import pandas as pd"
   ]
  },
  {
   "cell_type": "code",
   "execution_count": 4,
   "id": "eb2ab772-c603-4adb-8203-c5254a9ec106",
   "metadata": {
    "tags": []
   },
   "outputs": [],
   "source": [
    "import numpy as np"
   ]
  },
  {
   "cell_type": "code",
   "execution_count": 5,
   "id": "175309e4-f49e-4265-a1e2-3a4bb1a69f77",
   "metadata": {
    "tags": []
   },
   "outputs": [],
   "source": [
    "# Series"
   ]
  },
  {
   "cell_type": "code",
   "execution_count": 6,
   "id": "1dfb7717-6f95-4776-93e8-6cb24e6108a5",
   "metadata": {
    "tags": []
   },
   "outputs": [],
   "source": [
    "data = [1, 2, 3, 4]"
   ]
  },
  {
   "cell_type": "code",
   "execution_count": 7,
   "id": "c95cb221-45ab-4e1e-b784-49708b7b2a66",
   "metadata": {
    "tags": []
   },
   "outputs": [],
   "source": [
    "ser = pd.Series(data)"
   ]
  },
  {
   "cell_type": "code",
   "execution_count": 8,
   "id": "103e5a09-462a-4355-abdd-5a07a27a619b",
   "metadata": {
    "tags": []
   },
   "outputs": [
    {
     "name": "stdout",
     "output_type": "stream",
     "text": [
      "0    1\n",
      "1    2\n",
      "2    3\n",
      "3    4\n",
      "dtype: int64\n"
     ]
    }
   ],
   "source": [
    "print(ser)"
   ]
  },
  {
   "cell_type": "code",
   "execution_count": 9,
   "id": "adbb7fbb-feca-44a1-a878-aa853772b37f",
   "metadata": {
    "tags": []
   },
   "outputs": [],
   "source": [
    "# Data frame"
   ]
  },
  {
   "cell_type": "code",
   "execution_count": 12,
   "id": "27440ee9-5055-4daf-ab4d-3e07d4913167",
   "metadata": {
    "tags": []
   },
   "outputs": [
    {
     "name": "stdout",
     "output_type": "stream",
     "text": [
      "   column1 column2\n",
      "0      1.0       A\n",
      "1      2.0       B\n",
      "2      3.0       C\n",
      "3      4.0       D\n",
      "4      NaN       E\n"
     ]
    }
   ],
   "source": [
    "datas = {\n",
    "    'column1': [1, 2, 3, 4, np.nan],\n",
    "    'column2': ['A', 'B', 'C', 'D', 'E']\n",
    "}\n",
    "dataframe = pd.DataFrame(datas)\n",
    "print(dataframe)"
   ]
  },
  {
   "cell_type": "code",
   "execution_count": 13,
   "id": "6cce82c4-4b1d-4ac6-950d-8b3e534c30e2",
   "metadata": {
    "tags": []
   },
   "outputs": [],
   "source": [
    "#Data cleaning"
   ]
  },
  {
   "cell_type": "code",
   "execution_count": 14,
   "id": "50b2c454-352e-4f83-87de-e111824b8540",
   "metadata": {
    "tags": []
   },
   "outputs": [],
   "source": [
    "#Missing Data"
   ]
  },
  {
   "cell_type": "code",
   "execution_count": 19,
   "id": "21bcfab6-c2a9-4f39-bdf6-1a266beab3bb",
   "metadata": {
    "tags": []
   },
   "outputs": [
    {
     "data": {
      "text/plain": [
       "<bound method DataFrame.dropna of    column1 column2\n",
       "0      1.0       A\n",
       "1      2.0       B\n",
       "2      3.0       C\n",
       "3      4.0       D\n",
       "4      NaN       E>"
      ]
     },
     "execution_count": 19,
     "metadata": {},
     "output_type": "execute_result"
    }
   ],
   "source": [
    "dataframe.dropna"
   ]
  },
  {
   "cell_type": "code",
   "execution_count": 20,
   "id": "e1854dd6-e040-475d-8ce4-69469ac0eb7e",
   "metadata": {
    "tags": []
   },
   "outputs": [
    {
     "data": {
      "text/html": [
       "<div>\n",
       "<style scoped>\n",
       "    .dataframe tbody tr th:only-of-type {\n",
       "        vertical-align: middle;\n",
       "    }\n",
       "\n",
       "    .dataframe tbody tr th {\n",
       "        vertical-align: top;\n",
       "    }\n",
       "\n",
       "    .dataframe thead th {\n",
       "        text-align: right;\n",
       "    }\n",
       "</style>\n",
       "<table border=\"1\" class=\"dataframe\">\n",
       "  <thead>\n",
       "    <tr style=\"text-align: right;\">\n",
       "      <th></th>\n",
       "      <th>column1</th>\n",
       "      <th>column2</th>\n",
       "    </tr>\n",
       "  </thead>\n",
       "  <tbody>\n",
       "    <tr>\n",
       "      <th>0</th>\n",
       "      <td>1.0</td>\n",
       "      <td>A</td>\n",
       "    </tr>\n",
       "    <tr>\n",
       "      <th>1</th>\n",
       "      <td>2.0</td>\n",
       "      <td>B</td>\n",
       "    </tr>\n",
       "    <tr>\n",
       "      <th>2</th>\n",
       "      <td>3.0</td>\n",
       "      <td>C</td>\n",
       "    </tr>\n",
       "    <tr>\n",
       "      <th>3</th>\n",
       "      <td>4.0</td>\n",
       "      <td>D</td>\n",
       "    </tr>\n",
       "    <tr>\n",
       "      <th>4</th>\n",
       "      <td>1.0</td>\n",
       "      <td>E</td>\n",
       "    </tr>\n",
       "  </tbody>\n",
       "</table>\n",
       "</div>"
      ],
      "text/plain": [
       "   column1 column2\n",
       "0      1.0       A\n",
       "1      2.0       B\n",
       "2      3.0       C\n",
       "3      4.0       D\n",
       "4      1.0       E"
      ]
     },
     "execution_count": 20,
     "metadata": {},
     "output_type": "execute_result"
    }
   ],
   "source": [
    "dataframe.fillna(value = 1)"
   ]
  },
  {
   "cell_type": "code",
   "execution_count": 21,
   "id": "3c5f2b41-bd2f-424d-a23a-0bbe13898cc6",
   "metadata": {
    "tags": []
   },
   "outputs": [
    {
     "data": {
      "text/html": [
       "<div>\n",
       "<style scoped>\n",
       "    .dataframe tbody tr th:only-of-type {\n",
       "        vertical-align: middle;\n",
       "    }\n",
       "\n",
       "    .dataframe tbody tr th {\n",
       "        vertical-align: top;\n",
       "    }\n",
       "\n",
       "    .dataframe thead th {\n",
       "        text-align: right;\n",
       "    }\n",
       "</style>\n",
       "<table border=\"1\" class=\"dataframe\">\n",
       "  <thead>\n",
       "    <tr style=\"text-align: right;\">\n",
       "      <th></th>\n",
       "      <th>column1</th>\n",
       "      <th>column2</th>\n",
       "    </tr>\n",
       "  </thead>\n",
       "  <tbody>\n",
       "    <tr>\n",
       "      <th>0</th>\n",
       "      <td>1.0</td>\n",
       "      <td>A</td>\n",
       "    </tr>\n",
       "    <tr>\n",
       "      <th>1</th>\n",
       "      <td>2.0</td>\n",
       "      <td>B</td>\n",
       "    </tr>\n",
       "    <tr>\n",
       "      <th>2</th>\n",
       "      <td>3.0</td>\n",
       "      <td>C</td>\n",
       "    </tr>\n",
       "    <tr>\n",
       "      <th>3</th>\n",
       "      <td>4.0</td>\n",
       "      <td>D</td>\n",
       "    </tr>\n",
       "    <tr>\n",
       "      <th>4</th>\n",
       "      <td>NaN</td>\n",
       "      <td>E</td>\n",
       "    </tr>\n",
       "  </tbody>\n",
       "</table>\n",
       "</div>"
      ],
      "text/plain": [
       "   column1 column2\n",
       "0      1.0       A\n",
       "1      2.0       B\n",
       "2      3.0       C\n",
       "3      4.0       D\n",
       "4      NaN       E"
      ]
     },
     "execution_count": 21,
     "metadata": {},
     "output_type": "execute_result"
    }
   ],
   "source": [
    "dataframe.drop_duplicates()"
   ]
  },
  {
   "cell_type": "code",
   "execution_count": 22,
   "id": "5f65965d-e2b9-4394-a406-38be907f8f72",
   "metadata": {
    "tags": []
   },
   "outputs": [],
   "source": [
    "#Rename Columns"
   ]
  },
  {
   "cell_type": "code",
   "execution_count": 26,
   "id": "6515dd93-66f4-424c-8874-d639590786f1",
   "metadata": {
    "tags": []
   },
   "outputs": [],
   "source": [
    "dataframe.rename(columns={'column1' : 'columnnew'}, inplace=True)"
   ]
  },
  {
   "cell_type": "code",
   "execution_count": 27,
   "id": "f7a31f73-dfa1-448b-a4fe-ccf83658c2a7",
   "metadata": {
    "tags": []
   },
   "outputs": [
    {
     "name": "stdout",
     "output_type": "stream",
     "text": [
      "   columnnew column2\n",
      "0        1.0       A\n",
      "1        2.0       B\n",
      "2        3.0       C\n",
      "3        4.0       D\n",
      "4        NaN       E\n"
     ]
    }
   ],
   "source": [
    "print(dataframe)"
   ]
  },
  {
   "cell_type": "code",
   "execution_count": 28,
   "id": "bd0714c1-4e9b-419f-b163-640099c353bf",
   "metadata": {
    "tags": []
   },
   "outputs": [],
   "source": [
    "dataframe.replace({4.0 : 7.0}, inplace=True)"
   ]
  },
  {
   "cell_type": "code",
   "execution_count": 29,
   "id": "3b7d9f71-f47e-46cb-ab19-81aab1390f2b",
   "metadata": {
    "tags": []
   },
   "outputs": [
    {
     "name": "stdout",
     "output_type": "stream",
     "text": [
      "   columnnew column2\n",
      "0        1.0       A\n",
      "1        2.0       B\n",
      "2        3.0       C\n",
      "3        7.0       D\n",
      "4        NaN       E\n"
     ]
    }
   ],
   "source": [
    "print(dataframe)"
   ]
  },
  {
   "cell_type": "code",
   "execution_count": 31,
   "id": "43521f75-5dcc-4112-a0d8-cbf6a7401d21",
   "metadata": {
    "tags": []
   },
   "outputs": [],
   "source": [
    "dataframe.loc[3, \"columnnew\"] = 6"
   ]
  },
  {
   "cell_type": "code",
   "execution_count": 32,
   "id": "0c959134-7407-423a-9d43-bfe8e7acb822",
   "metadata": {
    "tags": []
   },
   "outputs": [
    {
     "name": "stdout",
     "output_type": "stream",
     "text": [
      "   columnnew column2\n",
      "0        1.0       A\n",
      "1        2.0       B\n",
      "2        3.0       C\n",
      "3        6.0       D\n",
      "4        NaN       E\n"
     ]
    }
   ],
   "source": [
    "print(dataframe)"
   ]
  },
  {
   "cell_type": "code",
   "execution_count": 33,
   "id": "bcb3967f-4846-41c2-bb15-bfc2d2c56c4d",
   "metadata": {
    "tags": []
   },
   "outputs": [],
   "source": [
    "dataframe.sort_values(by=[\"columnnew\"], ascending=False, inplace=True)"
   ]
  },
  {
   "cell_type": "code",
   "execution_count": 34,
   "id": "99ed2966-6bac-4e07-84ee-e75ac64a6081",
   "metadata": {
    "tags": []
   },
   "outputs": [
    {
     "name": "stdout",
     "output_type": "stream",
     "text": [
      "   columnnew column2\n",
      "3        6.0       D\n",
      "2        3.0       C\n",
      "1        2.0       B\n",
      "0        1.0       A\n",
      "4        NaN       E\n"
     ]
    }
   ],
   "source": [
    "print(dataframe)"
   ]
  },
  {
   "cell_type": "code",
   "execution_count": 35,
   "id": "3e5855bb-39f1-4a57-b19e-631e9f087e7a",
   "metadata": {
    "tags": []
   },
   "outputs": [],
   "source": [
    "#inplace=whatever means that the dataframe stores the manipulation of the data that you just did"
   ]
  },
  {
   "cell_type": "code",
   "execution_count": 36,
   "id": "09fc2d48-20ad-4bd0-9389-5baeb33b64b0",
   "metadata": {
    "tags": []
   },
   "outputs": [],
   "source": [
    "#the next time you print it, the dataframe will still be in that sort"
   ]
  },
  {
   "cell_type": "code",
   "execution_count": null,
   "id": "9a4fa574-dee3-4dad-ac64-9f29635bfc90",
   "metadata": {},
   "outputs": [],
   "source": []
  }
 ],
 "metadata": {
  "kernelspec": {
   "display_name": "Python 3 (ipykernel)",
   "language": "python",
   "name": "python3"
  },
  "language_info": {
   "codemirror_mode": {
    "name": "ipython",
    "version": 3
   },
   "file_extension": ".py",
   "mimetype": "text/x-python",
   "name": "python",
   "nbconvert_exporter": "python",
   "pygments_lexer": "ipython3",
   "version": "3.10.9"
  }
 },
 "nbformat": 4,
 "nbformat_minor": 5
}
