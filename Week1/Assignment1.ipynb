{
 "cells": [
  {
   "cell_type": "markdown",
   "id": "54558e52-5051-4d3f-979f-34b820c0578d",
   "metadata": {},
   "source": [
    "# Assignment 1"
   ]
  },
  {
   "cell_type": "markdown",
   "id": "f4a3ccab-a4c9-41eb-8663-676cf3f09b72",
   "metadata": {
    "tags": []
   },
   "source": [
    "## What I Have Learned"
   ]
  },
  {
   "cell_type": "markdown",
   "id": "e8cd6ce0-becd-40e5-af9d-551fa02f5353",
   "metadata": {},
   "source": [
    "- how to use github\n",
    "- how to use git\n",
    "- how to use Markdown files\n",
    "    - *italics* **bold**"
   ]
  },
  {
   "cell_type": "markdown",
   "id": "ae528435-4925-48b5-abd9-4f5d1f1d0718",
   "metadata": {},
   "source": [
    "## What I am still confused about"
   ]
  },
  {
   "cell_type": "markdown",
   "id": "b52f3341-7eae-4006-8be5-6ee6c9dd2637",
   "metadata": {},
   "source": [
    "- I still need to memorize many of the git commands, like checkout\n",
    "- I am still getting used to pulling requests, especially between JupyterHub and GitHub"
   ]
  },
  {
   "cell_type": "code",
   "execution_count": null,
   "id": "d33ba20a-353a-4545-8729-aa2183ba2ede",
   "metadata": {},
   "outputs": [],
   "source": []
  }
 ],
 "metadata": {
  "kernelspec": {
   "display_name": "Python 3 (ipykernel)",
   "language": "python",
   "name": "python3"
  },
  "language_info": {
   "codemirror_mode": {
    "name": "ipython",
    "version": 3
   },
   "file_extension": ".py",
   "mimetype": "text/x-python",
   "name": "python",
   "nbconvert_exporter": "python",
   "pygments_lexer": "ipython3",
   "version": "3.10.9"
  }
 },
 "nbformat": 4,
 "nbformat_minor": 5
}
