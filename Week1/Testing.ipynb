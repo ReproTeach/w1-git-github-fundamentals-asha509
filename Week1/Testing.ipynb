{
 "cells": [
  {
   "cell_type": "code",
   "execution_count": 1,
   "id": "54976919-d535-4120-91b4-84fd3781a4d4",
   "metadata": {
    "tags": []
   },
   "outputs": [
    {
     "name": "stdout",
     "output_type": "stream",
     "text": [
      "Hello world\n"
     ]
    }
   ],
   "source": [
    "print(\"Hello world\")"
   ]
  },
  {
   "cell_type": "markdown",
   "id": "9eda2677-e2b5-443e-9882-983d9e506a64",
   "metadata": {},
   "source": [
    "# COMM 160DS\n",
    "## Thursday\n",
    "We are learning reproducible **research** principles:\n",
    "\n",
    "1. transparency\n",
    "2. collaboration\n",
    "3. trust"
   ]
  },
  {
   "cell_type": "code",
   "execution_count": 2,
   "id": "bc6902ee-31a3-44f7-aa7d-76b419963225",
   "metadata": {
    "tags": []
   },
   "outputs": [],
   "source": [
    "import numpy as np"
   ]
  },
  {
   "cell_type": "code",
   "execution_count": 3,
   "id": "b9ad9c63-18f2-4da6-915b-24ba91a14e49",
   "metadata": {
    "tags": []
   },
   "outputs": [],
   "source": [
    "test = np.array([1,4,6,7])"
   ]
  },
  {
   "cell_type": "code",
   "execution_count": 4,
   "id": "f54fd174-71b1-46d1-a531-e62f2f5b9570",
   "metadata": {
    "tags": []
   },
   "outputs": [
    {
     "data": {
      "text/plain": [
       "numpy.ndarray"
      ]
     },
     "execution_count": 4,
     "metadata": {},
     "output_type": "execute_result"
    }
   ],
   "source": [
    "type(test)"
   ]
  },
  {
   "cell_type": "code",
   "execution_count": null,
   "id": "bf3ce374-c75f-42df-9de9-72308676c307",
   "metadata": {},
   "outputs": [],
   "source": []
  }
 ],
 "metadata": {
  "kernelspec": {
   "display_name": "Python 3 (ipykernel)",
   "language": "python",
   "name": "python3"
  },
  "language_info": {
   "codemirror_mode": {
    "name": "ipython",
    "version": 3
   },
   "file_extension": ".py",
   "mimetype": "text/x-python",
   "name": "python",
   "nbconvert_exporter": "python",
   "pygments_lexer": "ipython3",
   "version": "3.10.9"
  }
 },
 "nbformat": 4,
 "nbformat_minor": 5
}
