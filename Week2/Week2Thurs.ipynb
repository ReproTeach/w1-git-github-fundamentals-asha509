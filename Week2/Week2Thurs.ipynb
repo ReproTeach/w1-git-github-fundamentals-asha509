{
 "cells": [
  {
   "cell_type": "code",
   "execution_count": 37,
   "id": "3c144999-bc1e-440b-8b48-c56e3c23eed5",
   "metadata": {
    "tags": []
   },
   "outputs": [],
   "source": [
    "#NUMPY ####################################"
   ]
  },
  {
   "cell_type": "code",
   "execution_count": 4,
   "id": "e50e89a9-a58d-4ce2-b755-dc2922b0b14c",
   "metadata": {
    "tags": []
   },
   "outputs": [],
   "source": [
    "#need to import before you use package\n",
    "import numpy as np\n",
    "\n",
    "#create numpy array and python list\n",
    "a = np.array([1, 2, 3, 4, 5])\n",
    "list = [1, 2, 3, 4, 5]"
   ]
  },
  {
   "cell_type": "code",
   "execution_count": 6,
   "id": "5d8828b3-7fa9-4408-8969-103f0f4f982e",
   "metadata": {
    "tags": []
   },
   "outputs": [
    {
     "data": {
      "text/plain": [
       "array([1, 2, 3, 4, 5])"
      ]
     },
     "execution_count": 6,
     "metadata": {},
     "output_type": "execute_result"
    }
   ],
   "source": [
    "a"
   ]
  },
  {
   "cell_type": "code",
   "execution_count": 7,
   "id": "dbb312b5-a89b-4ea1-a27d-35bfae5eb82a",
   "metadata": {
    "tags": []
   },
   "outputs": [
    {
     "data": {
      "text/plain": [
       "[1, 2, 3, 4, 5]"
      ]
     },
     "execution_count": 7,
     "metadata": {},
     "output_type": "execute_result"
    }
   ],
   "source": [
    "list"
   ]
  },
  {
   "cell_type": "code",
   "execution_count": 9,
   "id": "ee28db43-1b9c-4a2c-a7d1-c60bba51d296",
   "metadata": {
    "tags": []
   },
   "outputs": [
    {
     "name": "stdout",
     "output_type": "stream",
     "text": [
      "[ 6  7  8  9 10]\n"
     ]
    }
   ],
   "source": [
    "#element wise operations with numpy arrays\n",
    "print(a+5)"
   ]
  },
  {
   "cell_type": "code",
   "execution_count": 10,
   "id": "48a769df-60ff-476a-b3f1-1b566d703c00",
   "metadata": {
    "tags": []
   },
   "outputs": [
    {
     "name": "stdout",
     "output_type": "stream",
     "text": [
      "[ 2  4  6  8 10]\n"
     ]
    }
   ],
   "source": [
    "print(a*2)"
   ]
  },
  {
   "cell_type": "code",
   "execution_count": 11,
   "id": "158ba21d-9300-4f7d-aada-874ea54401ba",
   "metadata": {
    "tags": []
   },
   "outputs": [
    {
     "ename": "TypeError",
     "evalue": "can only concatenate list (not \"int\") to list",
     "output_type": "error",
     "traceback": [
      "\u001b[0;31m---------------------------------------------------------------------------\u001b[0m",
      "\u001b[0;31mTypeError\u001b[0m                                 Traceback (most recent call last)",
      "Cell \u001b[0;32mIn[11], line 2\u001b[0m\n\u001b[1;32m      1\u001b[0m \u001b[38;5;66;03m#these operations are not supported with python lists\u001b[39;00m\n\u001b[0;32m----> 2\u001b[0m \u001b[38;5;28mprint\u001b[39m(\u001b[38;5;28;43mlist\u001b[39;49m\u001b[38;5;241;43m+\u001b[39;49m\u001b[38;5;241;43m5\u001b[39;49m)\n",
      "\u001b[0;31mTypeError\u001b[0m: can only concatenate list (not \"int\") to list"
     ]
    }
   ],
   "source": [
    "#these operations are not supported with python lists\n",
    "print(list+5)"
   ]
  },
  {
   "cell_type": "code",
   "execution_count": null,
   "id": "a0b55d8c-214f-41e5-b31d-746a69a7ba73",
   "metadata": {},
   "outputs": [],
   "source": [
    "#this is how you do those operations with python lists"
   ]
  },
  {
   "cell_type": "code",
   "execution_count": 15,
   "id": "2bb9658f-701d-453f-8829-5e241833f2ff",
   "metadata": {
    "tags": []
   },
   "outputs": [
    {
     "data": {
      "text/plain": [
       "[3, 4, 5, 6, 7]"
      ]
     },
     "execution_count": 15,
     "metadata": {},
     "output_type": "execute_result"
    }
   ],
   "source": [
    "newlist = []\n",
    "for e in list: \n",
    "    m = e+2\n",
    "    newlist.append(m)\n",
    "newlist"
   ]
  },
  {
   "cell_type": "code",
   "execution_count": 12,
   "id": "d73fe1c6-8371-402a-9e07-14eac892d8b0",
   "metadata": {
    "tags": []
   },
   "outputs": [
    {
     "name": "stdout",
     "output_type": "stream",
     "text": [
      "[1, 2, 3, 4, 5, 1, 2, 3, 4, 5]\n"
     ]
    }
   ],
   "source": [
    "print(list*2)"
   ]
  },
  {
   "cell_type": "code",
   "execution_count": 17,
   "id": "3373e02f-78f3-45fa-89ff-0d1fbabac3d7",
   "metadata": {
    "tags": []
   },
   "outputs": [
    {
     "name": "stdout",
     "output_type": "stream",
     "text": [
      "2\n"
     ]
    }
   ],
   "source": [
    "#indexing and slicing with numpy arrays\n",
    "#indexing is getting 1, slicing is getting a range\n",
    "print(a[1])"
   ]
  },
  {
   "cell_type": "code",
   "execution_count": 18,
   "id": "f7371b50-9396-47df-b6fa-6fc2acb0d72d",
   "metadata": {
    "tags": []
   },
   "outputs": [
    {
     "name": "stdout",
     "output_type": "stream",
     "text": [
      "[2 3 4]\n"
     ]
    }
   ],
   "source": [
    "#when you slice, it includes the first index value, but does not include the last index value\n",
    "print(a[1:4])"
   ]
  },
  {
   "cell_type": "code",
   "execution_count": 19,
   "id": "af837c31-d188-40f6-bab7-46f5d603902c",
   "metadata": {
    "tags": []
   },
   "outputs": [
    {
     "name": "stdout",
     "output_type": "stream",
     "text": [
      "2\n"
     ]
    }
   ],
   "source": [
    "print(list[1])"
   ]
  },
  {
   "cell_type": "code",
   "execution_count": 20,
   "id": "b755842f-1aa6-4c53-8ee0-a458db7f5769",
   "metadata": {
    "tags": []
   },
   "outputs": [
    {
     "name": "stdout",
     "output_type": "stream",
     "text": [
      "[2, 3, 4]\n"
     ]
    }
   ],
   "source": [
    "print(list[1:4])"
   ]
  },
  {
   "cell_type": "code",
   "execution_count": 21,
   "id": "6ef085e3-ee89-4f92-a92b-6d1a61d52543",
   "metadata": {
    "tags": []
   },
   "outputs": [],
   "source": [
    "#arrays don't have commas, lists do"
   ]
  },
  {
   "cell_type": "code",
   "execution_count": 22,
   "id": "fdfe31f0-7ea6-4616-8ca0-82dc04aaab5c",
   "metadata": {
    "tags": []
   },
   "outputs": [],
   "source": [
    "childage = np.array([6, 8, 11, 13, 17])"
   ]
  },
  {
   "cell_type": "code",
   "execution_count": 23,
   "id": "96d07da3-b481-4d3d-86df-050d95088ad9",
   "metadata": {
    "tags": []
   },
   "outputs": [
    {
     "name": "stdout",
     "output_type": "stream",
     "text": [
      "[ 6  8 11 13 17]\n"
     ]
    }
   ],
   "source": [
    "print(childage)"
   ]
  },
  {
   "cell_type": "code",
   "execution_count": 24,
   "id": "81ca4e17-7926-41fd-a0a8-6c8153f7f5f1",
   "metadata": {
    "tags": []
   },
   "outputs": [
    {
     "data": {
      "text/plain": [
       "array([ 6,  8, 11, 13, 17])"
      ]
     },
     "execution_count": 24,
     "metadata": {},
     "output_type": "execute_result"
    }
   ],
   "source": [
    "childage"
   ]
  },
  {
   "cell_type": "code",
   "execution_count": 25,
   "id": "701d374d-18db-4c3b-a92d-2367f34891e6",
   "metadata": {
    "tags": []
   },
   "outputs": [],
   "source": [
    "parentage = childage+30"
   ]
  },
  {
   "cell_type": "code",
   "execution_count": 26,
   "id": "7b516da1-9298-492e-aae8-2530c4434bb8",
   "metadata": {
    "tags": []
   },
   "outputs": [
    {
     "data": {
      "text/plain": [
       "array([36, 38, 41, 43, 47])"
      ]
     },
     "execution_count": 26,
     "metadata": {},
     "output_type": "execute_result"
    }
   ],
   "source": [
    "parentage"
   ]
  },
  {
   "cell_type": "code",
   "execution_count": 27,
   "id": "d5b17fb6-2442-4112-a74e-9f0c48ffd431",
   "metadata": {
    "tags": []
   },
   "outputs": [
    {
     "data": {
      "text/plain": [
       "array([66, 68, 71, 73, 77])"
      ]
     },
     "execution_count": 27,
     "metadata": {},
     "output_type": "execute_result"
    }
   ],
   "source": [
    "(parentage*2)-childage"
   ]
  },
  {
   "cell_type": "code",
   "execution_count": 28,
   "id": "f4da6c4c-bc91-439f-9432-d8d467eb46a3",
   "metadata": {
    "tags": []
   },
   "outputs": [],
   "source": [
    "parentageresult = (parentage*2)-childage"
   ]
  },
  {
   "cell_type": "code",
   "execution_count": 29,
   "id": "ef694298-8827-49ce-ab58-58b5dfebe344",
   "metadata": {
    "tags": []
   },
   "outputs": [
    {
     "data": {
      "text/plain": [
       "array([66, 68, 71, 73, 77])"
      ]
     },
     "execution_count": 29,
     "metadata": {},
     "output_type": "execute_result"
    }
   ],
   "source": [
    "parentageresult"
   ]
  },
  {
   "cell_type": "code",
   "execution_count": 32,
   "id": "bc1b4243-6ed7-43d5-b9f6-c4a283318706",
   "metadata": {
    "tags": []
   },
   "outputs": [],
   "source": [
    "#arrays have to be homogenous\n",
    "test = np.array([1, 2, \"2\"])"
   ]
  },
  {
   "cell_type": "code",
   "execution_count": 33,
   "id": "5aa0048e-9ff6-43cf-97c9-451256e11c36",
   "metadata": {
    "tags": []
   },
   "outputs": [
    {
     "data": {
      "text/plain": [
       "array(['1', '2', '2'], dtype='<U21')"
      ]
     },
     "execution_count": 33,
     "metadata": {},
     "output_type": "execute_result"
    }
   ],
   "source": [
    "test"
   ]
  },
  {
   "cell_type": "code",
   "execution_count": 34,
   "id": "c1cebb8d-d06a-4251-81d8-05ba2a3c5661",
   "metadata": {
    "tags": []
   },
   "outputs": [],
   "source": [
    "#when they aren't homogenous, it automatically converts everything into one form"
   ]
  },
  {
   "cell_type": "code",
   "execution_count": 36,
   "id": "f7fd8eeb-c8f2-48f6-b208-22e4c03296e0",
   "metadata": {
    "tags": []
   },
   "outputs": [],
   "source": [
    "#PYTHON FUNCTIONS #########################################################"
   ]
  },
  {
   "cell_type": "code",
   "execution_count": 38,
   "id": "81219c41-3dc1-46cd-b8b8-869b0dc035e8",
   "metadata": {
    "tags": []
   },
   "outputs": [],
   "source": [
    "#def means define (your function)"
   ]
  },
  {
   "cell_type": "code",
   "execution_count": 39,
   "id": "e7f0967d-e59b-445d-b055-6de5633ddb04",
   "metadata": {
    "tags": []
   },
   "outputs": [],
   "source": [
    "def function_name(arguments):\n",
    "    # Function body\n",
    "    result = perform_some_operations(arguments)\n",
    "    return result"
   ]
  },
  {
   "cell_type": "code",
   "execution_count": 43,
   "id": "d6584a7e-1409-4f35-bc3b-090ab78420aa",
   "metadata": {
    "tags": []
   },
   "outputs": [
    {
     "name": "stdout",
     "output_type": "stream",
     "text": [
      "Hello, Asha!\n"
     ]
    }
   ],
   "source": [
    "def greet(name):\n",
    "    return f\"Hello, {name}!\"\n",
    "\n",
    "print(greet(\"Asha\"))"
   ]
  },
  {
   "cell_type": "code",
   "execution_count": 44,
   "id": "43d3b486-2a47-435d-946f-5ec8d5ff057a",
   "metadata": {
    "tags": []
   },
   "outputs": [
    {
     "name": "stdout",
     "output_type": "stream",
     "text": [
      "8\n"
     ]
    }
   ],
   "source": [
    "def add(a, b):\n",
    "        return a + b\n",
    "    \n",
    "print(add(3, 5))"
   ]
  },
  {
   "cell_type": "code",
   "execution_count": 47,
   "id": "335d7d87-163f-43e5-ad7b-0782fc1b5562",
   "metadata": {
    "tags": []
   },
   "outputs": [
    {
     "data": {
      "text/plain": [
       "4.0"
      ]
     },
     "execution_count": 47,
     "metadata": {},
     "output_type": "execute_result"
    }
   ],
   "source": [
    "def testing(a, b, c):\n",
    "    c = a + c\n",
    "    b = c/b\n",
    "    return b\n",
    "\n",
    "a = 2\n",
    "c = 10\n",
    "b = 3\n",
    "testing(a, b, c)"
   ]
  },
  {
   "cell_type": "code",
   "execution_count": 48,
   "id": "8700ecb0-8324-4ba5-9d6c-891f5d8b3a1c",
   "metadata": {
    "tags": []
   },
   "outputs": [],
   "source": [
    "def power(base, exponent=2):\n",
    "    return base ** exponent"
   ]
  },
  {
   "cell_type": "code",
   "execution_count": 49,
   "id": "afb5438a-2c47-4f71-ad6d-a5a6472369d2",
   "metadata": {
    "tags": []
   },
   "outputs": [
    {
     "name": "stdout",
     "output_type": "stream",
     "text": [
      "9\n"
     ]
    }
   ],
   "source": [
    "print(power(3))"
   ]
  },
  {
   "cell_type": "code",
   "execution_count": 50,
   "id": "e1f353c0-118c-4f0e-a145-25f04fb1c679",
   "metadata": {
    "tags": []
   },
   "outputs": [
    {
     "name": "stdout",
     "output_type": "stream",
     "text": [
      "27\n"
     ]
    }
   ],
   "source": [
    "print(power(3, 3))"
   ]
  },
  {
   "cell_type": "code",
   "execution_count": 51,
   "id": "6a31f190-98c0-4922-9705-bdf92688452b",
   "metadata": {
    "tags": []
   },
   "outputs": [],
   "source": [
    "#in line 50, we overwrote what the exponent was supposed to be (it was supposed to be 2)"
   ]
  },
  {
   "cell_type": "code",
   "execution_count": 53,
   "id": "694ac775-d583-4e8b-8f18-30d76ef5b07b",
   "metadata": {
    "tags": []
   },
   "outputs": [
    {
     "name": "stdout",
     "output_type": "stream",
     "text": [
      "21\n"
     ]
    }
   ],
   "source": [
    "def multiply(a, b): \n",
    "    return a * b\n",
    "print(multiply(7, 3))"
   ]
  },
  {
   "cell_type": "code",
   "execution_count": 54,
   "id": "ba78990e-4feb-401b-9996-bd531bf78965",
   "metadata": {
    "tags": []
   },
   "outputs": [],
   "source": [
    "#can't define a function called list, dict, etc. because python already uses those, blue ones are fine to use and green are not fine to use"
   ]
  },
  {
   "cell_type": "code",
   "execution_count": 61,
   "id": "bc3e3e10-2929-4489-9298-932bba01de54",
   "metadata": {
    "tags": []
   },
   "outputs": [],
   "source": [
    "def getmax(alist):\n",
    "    for i in range(len(alist)):\n",
    "        previouselement= alist[i-1]\n",
    "        currentelement= alist[i]\n",
    "        print(i, previouselement, currentelement)\n",
    "        if previouselement >= currentelement:\n",
    "            maxelement = previouselement\n",
    "        else:\n",
    "            maxelement=currentelement\n",
    "        print(maxelement)\n",
    "    return maxelement\n",
    "blist = [1, 3, 5, 7]\n",
    "clist = [17, 6, 12, 4]"
   ]
  },
  {
   "cell_type": "code",
   "execution_count": 62,
   "id": "886fe456-ae38-4001-8be9-67f191591530",
   "metadata": {
    "tags": []
   },
   "outputs": [
    {
     "name": "stdout",
     "output_type": "stream",
     "text": [
      "0 7 1\n",
      "7\n",
      "1 1 3\n",
      "3\n",
      "2 3 5\n",
      "5\n",
      "3 5 7\n",
      "7\n"
     ]
    },
    {
     "data": {
      "text/plain": [
       "7"
      ]
     },
     "execution_count": 62,
     "metadata": {},
     "output_type": "execute_result"
    }
   ],
   "source": [
    "getmax(alist=blist)"
   ]
  },
  {
   "cell_type": "code",
   "execution_count": 63,
   "id": "3ed543a9-5e37-481b-92e0-b9c7f12adeb5",
   "metadata": {
    "tags": []
   },
   "outputs": [
    {
     "name": "stdout",
     "output_type": "stream",
     "text": [
      "0 4 17\n",
      "17\n",
      "1 17 6\n",
      "17\n",
      "2 6 12\n",
      "12\n",
      "3 12 4\n",
      "12\n"
     ]
    },
    {
     "data": {
      "text/plain": [
       "12"
      ]
     },
     "execution_count": 63,
     "metadata": {},
     "output_type": "execute_result"
    }
   ],
   "source": [
    "getmax(alist=clist)"
   ]
  },
  {
   "cell_type": "code",
   "execution_count": 64,
   "id": "95e7a1fa-5203-4730-a82f-ced7135004dd",
   "metadata": {
    "tags": []
   },
   "outputs": [],
   "source": [
    "#PYTHON MODULES ###############################"
   ]
  },
  {
   "cell_type": "code",
   "execution_count": 65,
   "id": "3b218904-0038-4c52-9dbf-f29b7309cf4a",
   "metadata": {
    "tags": []
   },
   "outputs": [],
   "source": [
    "#first have to import modules using import module_name\n",
    "#access by result = module_name.function_name(arguments)"
   ]
  },
  {
   "cell_type": "code",
   "execution_count": 67,
   "id": "6b79d917-2a8f-450b-855a-1c47a471aaec",
   "metadata": {
    "tags": []
   },
   "outputs": [
    {
     "name": "stdout",
     "output_type": "stream",
     "text": [
      "4.0\n"
     ]
    }
   ],
   "source": [
    "import math\n",
    "#calculate square root of 16\n",
    "sqrtresult = math.sqrt(16)\n",
    "print(sqrtresult)"
   ]
  },
  {
   "cell_type": "code",
   "execution_count": 68,
   "id": "e9227454-cb18-4f09-9e26-1e6720bcc818",
   "metadata": {
    "tags": []
   },
   "outputs": [
    {
     "name": "stdout",
     "output_type": "stream",
     "text": [
      "0.7071067811865476\n"
     ]
    }
   ],
   "source": [
    "#calculate cosine of 45 degrees\n",
    "cosresult = math.cos(math.radians(45))\n",
    "print(cosresult)"
   ]
  },
  {
   "cell_type": "code",
   "execution_count": 69,
   "id": "9a512c0a-d7b9-4b9b-9a9e-713b592914dc",
   "metadata": {
    "tags": []
   },
   "outputs": [],
   "source": [
    "#can import specific function from a module, not whole module"
   ]
  },
  {
   "cell_type": "code",
   "execution_count": 70,
   "id": "9cbeabfb-e6b0-4e23-adf5-bcda2eb28a85",
   "metadata": {
    "tags": []
   },
   "outputs": [],
   "source": [
    "from math import sqrt"
   ]
  },
  {
   "cell_type": "code",
   "execution_count": 71,
   "id": "54e1b3cc-871d-4cc4-a25a-2febbd4c0101",
   "metadata": {
    "tags": []
   },
   "outputs": [],
   "source": [
    "sqrtresult = sqrt(16)"
   ]
  },
  {
   "cell_type": "code",
   "execution_count": 72,
   "id": "38d3eddd-1ae0-41a8-8d63-5e5ed21ed579",
   "metadata": {
    "tags": []
   },
   "outputs": [
    {
     "name": "stdout",
     "output_type": "stream",
     "text": [
      "4.0\n"
     ]
    }
   ],
   "source": [
    "print(sqrtresult)"
   ]
  },
  {
   "cell_type": "code",
   "execution_count": 73,
   "id": "24593b37-f88b-441f-98dc-33314fbd30b0",
   "metadata": {
    "tags": []
   },
   "outputs": [],
   "source": [
    "#to use shorter name of module, import it with an alias using the as keyword"
   ]
  },
  {
   "cell_type": "code",
   "execution_count": 74,
   "id": "fd7da224-3251-4094-ac21-f601718bdaef",
   "metadata": {
    "tags": []
   },
   "outputs": [],
   "source": [
    "import math as m"
   ]
  },
  {
   "cell_type": "code",
   "execution_count": 75,
   "id": "beef6ff0-f4e9-45ac-965f-e5c5d1f2237e",
   "metadata": {
    "tags": []
   },
   "outputs": [
    {
     "name": "stdout",
     "output_type": "stream",
     "text": [
      "4.0\n"
     ]
    }
   ],
   "source": [
    "sqrtresult = m.sqrt(16)\n",
    "print(sqrtresult)"
   ]
  },
  {
   "cell_type": "code",
   "execution_count": null,
   "id": "8365b567-5571-4375-9a7e-38355a969e83",
   "metadata": {},
   "outputs": [],
   "source": []
  }
 ],
 "metadata": {
  "kernelspec": {
   "display_name": "Python 3 (ipykernel)",
   "language": "python",
   "name": "python3"
  },
  "language_info": {
   "codemirror_mode": {
    "name": "ipython",
    "version": 3
   },
   "file_extension": ".py",
   "mimetype": "text/x-python",
   "name": "python",
   "nbconvert_exporter": "python",
   "pygments_lexer": "ipython3",
   "version": "3.10.9"
  }
 },
 "nbformat": 4,
 "nbformat_minor": 5
}
