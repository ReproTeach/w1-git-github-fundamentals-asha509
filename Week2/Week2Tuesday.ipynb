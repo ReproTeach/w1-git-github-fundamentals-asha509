{
 "cells": [
  {
   "cell_type": "code",
   "execution_count": 3,
   "id": "5426b1d4-529b-4ab6-9b7b-417dd121741d",
   "metadata": {
    "tags": []
   },
   "outputs": [],
   "source": [
    "list = [1, 2, 3, 4, 5]"
   ]
  },
  {
   "cell_type": "code",
   "execution_count": 6,
   "id": "e104b05e-e000-41b7-8bba-3ac89ce08b3e",
   "metadata": {
    "tags": []
   },
   "outputs": [],
   "source": [
    "list2 = [2, 3, 4, 5, 1]"
   ]
  },
  {
   "cell_type": "markdown",
   "id": "b394fcf8-4394-4de0-8e7b-94d0d60cac73",
   "metadata": {},
   "source": [
    "Use index of element to acccess them in a list"
   ]
  },
  {
   "cell_type": "code",
   "execution_count": 9,
   "id": "fe999f76-b8c7-41e2-9231-105c13cf0d27",
   "metadata": {
    "tags": []
   },
   "outputs": [
    {
     "name": "stdout",
     "output_type": "stream",
     "text": [
      "1\n"
     ]
    }
   ],
   "source": [
    "element1 = list[0]\n",
    "print(element1)"
   ]
  },
  {
   "cell_type": "code",
   "execution_count": 11,
   "id": "a878aa79-566c-4fba-b15e-e3ced4f5e0d6",
   "metadata": {
    "tags": []
   },
   "outputs": [
    {
     "name": "stdout",
     "output_type": "stream",
     "text": [
      "5\n"
     ]
    }
   ],
   "source": [
    "element2 = list2[3]\n",
    "print(element2)"
   ]
  },
  {
   "cell_type": "markdown",
   "id": "35d70cf2-587a-46cd-b49b-c3f7430aeb61",
   "metadata": {},
   "source": [
    "### adding elements\n",
    "add elements using append() method or + operator"
   ]
  },
  {
   "cell_type": "code",
   "execution_count": 12,
   "id": "f346f739-6cfa-4b85-8220-2c7d69667947",
   "metadata": {
    "tags": []
   },
   "outputs": [],
   "source": [
    "list.append(6)\n",
    "list.append(10)"
   ]
  },
  {
   "cell_type": "code",
   "execution_count": 14,
   "id": "fa279fe6-ee18-41d5-b52f-908a34aa7fec",
   "metadata": {
    "tags": []
   },
   "outputs": [
    {
     "data": {
      "text/plain": [
       "7"
      ]
     },
     "execution_count": 14,
     "metadata": {},
     "output_type": "execute_result"
    }
   ],
   "source": [
    "len(list)"
   ]
  },
  {
   "cell_type": "markdown",
   "id": "c87e8afe-26a9-46c4-acaa-013f7443aeb4",
   "metadata": {},
   "source": [
    "len means length"
   ]
  },
  {
   "cell_type": "code",
   "execution_count": 15,
   "id": "ead64827-c9f9-4172-9896-b7d1f2f6cd7f",
   "metadata": {
    "tags": []
   },
   "outputs": [
    {
     "name": "stdout",
     "output_type": "stream",
     "text": [
      "[1, 2, 3, 4, 5, 6, 10]\n"
     ]
    }
   ],
   "source": [
    "print(list)"
   ]
  },
  {
   "cell_type": "markdown",
   "id": "c3f18337-a611-4189-8b3d-d2572baad154",
   "metadata": {},
   "source": [
    "remove elements by remove() or pop()"
   ]
  },
  {
   "cell_type": "code",
   "execution_count": 16,
   "id": "74830a58-3a9e-4cda-9a6f-ca28a1d6bc97",
   "metadata": {
    "tags": []
   },
   "outputs": [
    {
     "name": "stdout",
     "output_type": "stream",
     "text": [
      "[1, 2, 3, 4, 5, 10]\n"
     ]
    }
   ],
   "source": [
    "list.remove(6)\n",
    "print(list)"
   ]
  },
  {
   "cell_type": "code",
   "execution_count": 17,
   "id": "500e66d0-0707-4004-af76-c6925a48a8e3",
   "metadata": {
    "tags": []
   },
   "outputs": [],
   "source": [
    "movielist = ['the croods', 'brave', 'the lion king', 'everything everywhere all at once']"
   ]
  },
  {
   "cell_type": "code",
   "execution_count": 20,
   "id": "031703c5-26c3-422f-a032-8b4859d55532",
   "metadata": {
    "tags": []
   },
   "outputs": [
    {
     "name": "stdout",
     "output_type": "stream",
     "text": [
      "the croods\n",
      "everything everywhere all at once\n"
     ]
    }
   ],
   "source": [
    "print(movielist[0])\n",
    "print(movielist[-1])"
   ]
  },
  {
   "cell_type": "code",
   "execution_count": 22,
   "id": "ee406f68-a9fb-40ef-b208-952a1f096123",
   "metadata": {
    "tags": []
   },
   "outputs": [],
   "source": [
    "movielist.append('ant man')\n",
    "movielist.append('shrek')"
   ]
  },
  {
   "cell_type": "code",
   "execution_count": 23,
   "id": "5e4860f4-f561-4fd6-9c20-634e2a185f1e",
   "metadata": {
    "tags": []
   },
   "outputs": [
    {
     "name": "stdout",
     "output_type": "stream",
     "text": [
      "['the croods', 'brave', 'the lion king', 'everything everywhere all at once', 'ant man', 'shrek']\n"
     ]
    }
   ],
   "source": [
    "print(movielist)"
   ]
  },
  {
   "cell_type": "code",
   "execution_count": 24,
   "id": "53bdf55f-50c7-4d1b-bf49-699269f693fd",
   "metadata": {
    "tags": []
   },
   "outputs": [],
   "source": [
    "movielist.remove('shrek')"
   ]
  },
  {
   "cell_type": "code",
   "execution_count": 25,
   "id": "fed8bd55-702c-42e4-8e5e-7baac22d112a",
   "metadata": {
    "tags": []
   },
   "outputs": [
    {
     "name": "stdout",
     "output_type": "stream",
     "text": [
      "['the croods', 'brave', 'the lion king', 'everything everywhere all at once', 'ant man']\n"
     ]
    }
   ],
   "source": [
    "print(movielist)"
   ]
  },
  {
   "cell_type": "markdown",
   "id": "9fd4f8d7-5c3e-4ae3-ac4d-48e585cb8840",
   "metadata": {},
   "source": [
    "### tuples\n",
    "tuples are lists but they cannot be changed, the only difference is that they don't use brackets, they use parentheses when forming the code"
   ]
  },
  {
   "cell_type": "code",
   "execution_count": 26,
   "id": "04194b55-afe6-4a64-bcbb-11c11b602612",
   "metadata": {
    "tags": []
   },
   "outputs": [],
   "source": [
    "tuple = (1, 2, 3, 4, 5)"
   ]
  },
  {
   "cell_type": "code",
   "execution_count": 27,
   "id": "32cc47e9-8c91-456c-9a98-deadb1265bc0",
   "metadata": {
    "tags": []
   },
   "outputs": [],
   "source": [
    "element1 = tuple[0]"
   ]
  },
  {
   "cell_type": "code",
   "execution_count": 28,
   "id": "fea3cb05-4cc6-4978-89bb-33c9d791b70c",
   "metadata": {
    "tags": []
   },
   "outputs": [
    {
     "name": "stdout",
     "output_type": "stream",
     "text": [
      "1\n"
     ]
    }
   ],
   "source": [
    "print(element1)"
   ]
  },
  {
   "cell_type": "markdown",
   "id": "8748f111-755b-4d3b-99cc-820fe83eb991",
   "metadata": {},
   "source": [
    "you can create a new tuple by adding together old ones"
   ]
  },
  {
   "cell_type": "code",
   "execution_count": 29,
   "id": "807654af-6997-4079-b7d2-309be3edcbd4",
   "metadata": {
    "tags": []
   },
   "outputs": [],
   "source": [
    "tuple2 = tuple + (6, 7, 8)"
   ]
  },
  {
   "cell_type": "code",
   "execution_count": 30,
   "id": "6c30afc3-46aa-4717-a2f3-da861b79bea2",
   "metadata": {
    "tags": []
   },
   "outputs": [
    {
     "name": "stdout",
     "output_type": "stream",
     "text": [
      "(1, 2, 3, 4, 5, 6, 7, 8)\n"
     ]
    }
   ],
   "source": [
    "print(tuple2)"
   ]
  },
  {
   "cell_type": "code",
   "execution_count": 31,
   "id": "8712b52c-6859-4357-b06d-b465b0149058",
   "metadata": {
    "tags": []
   },
   "outputs": [],
   "source": [
    "#exercise 1"
   ]
  },
  {
   "cell_type": "code",
   "execution_count": 33,
   "id": "e113903a-31b5-43a1-bd5c-3bbebed0a46b",
   "metadata": {
    "tags": []
   },
   "outputs": [],
   "source": [
    "colorstuple = (\"green\", \"blue\", \"maroon\")"
   ]
  },
  {
   "cell_type": "code",
   "execution_count": 35,
   "id": "66e4410d-7368-4a30-a379-c09c01fdfa67",
   "metadata": {
    "tags": []
   },
   "outputs": [
    {
     "name": "stdout",
     "output_type": "stream",
     "text": [
      "maroon\n"
     ]
    }
   ],
   "source": [
    "print(colorstuple[-1])"
   ]
  },
  {
   "cell_type": "code",
   "execution_count": 38,
   "id": "1f2a1e08-a6cf-45de-84b7-dc523ed67aee",
   "metadata": {
    "tags": []
   },
   "outputs": [
    {
     "name": "stdout",
     "output_type": "stream",
     "text": [
      "green\n"
     ]
    }
   ],
   "source": [
    "print(colorstuple[0])"
   ]
  },
  {
   "cell_type": "code",
   "execution_count": 40,
   "id": "8a0ca8f2-04b2-4065-ba11-3712f2fbac2d",
   "metadata": {
    "tags": []
   },
   "outputs": [],
   "source": [
    "tuple1 = (1, 4, 7)\n",
    "tuple2 = (2, 6, 3)"
   ]
  },
  {
   "cell_type": "code",
   "execution_count": 41,
   "id": "989a321a-c117-44ff-b59c-1ab26c0f305b",
   "metadata": {
    "tags": []
   },
   "outputs": [],
   "source": [
    "tuple3 = tuple1 + tuple2"
   ]
  },
  {
   "cell_type": "code",
   "execution_count": 42,
   "id": "ed8d64cf-e741-444c-92f2-02d251dcbd1f",
   "metadata": {
    "tags": []
   },
   "outputs": [
    {
     "name": "stdout",
     "output_type": "stream",
     "text": [
      "(1, 4, 7, 2, 6, 3)\n"
     ]
    }
   ],
   "source": [
    "print(tuple3)"
   ]
  },
  {
   "cell_type": "code",
   "execution_count": 49,
   "id": "60e19c7d-c9ea-485d-959c-073e10342db3",
   "metadata": {
    "tags": []
   },
   "outputs": [
    {
     "name": "stdout",
     "output_type": "stream",
     "text": [
      "first element: green, last element: maroon\n"
     ]
    }
   ],
   "source": [
    "print(f\"first element: {colorstuple[0]}, last element: {colorstuple[-1]}\")"
   ]
  },
  {
   "cell_type": "code",
   "execution_count": 47,
   "id": "44a9112d-0b7b-48fc-80d4-9c3a2725ea13",
   "metadata": {
    "tags": []
   },
   "outputs": [],
   "source": [
    "#Sets"
   ]
  },
  {
   "cell_type": "code",
   "execution_count": 53,
   "id": "69e777ab-3899-4e50-ab93-276ab68c835b",
   "metadata": {
    "tags": []
   },
   "outputs": [],
   "source": [
    "set = {'a', 'b', 'c'}"
   ]
  },
  {
   "cell_type": "code",
   "execution_count": 54,
   "id": "c3d7159d-9e22-4406-b2da-0c2bca4e3d77",
   "metadata": {
    "tags": []
   },
   "outputs": [],
   "source": [
    "#can't read multiple same objects in one set"
   ]
  },
  {
   "cell_type": "code",
   "execution_count": 55,
   "id": "3e028c40-6628-423c-bc7c-bb3f8016df75",
   "metadata": {
    "tags": []
   },
   "outputs": [],
   "source": [
    "set2 = {'a', 'b', 'c', 'c', 'c'}"
   ]
  },
  {
   "cell_type": "code",
   "execution_count": 56,
   "id": "67a0aa3d-88b4-4f88-86b6-0c4972a3f9d0",
   "metadata": {
    "tags": []
   },
   "outputs": [
    {
     "data": {
      "text/plain": [
       "True"
      ]
     },
     "execution_count": 56,
     "metadata": {},
     "output_type": "execute_result"
    }
   ],
   "source": [
    "set ==set2"
   ]
  },
  {
   "cell_type": "code",
   "execution_count": 57,
   "id": "42039686-6579-4d48-b17e-9b0368646fc9",
   "metadata": {
    "tags": []
   },
   "outputs": [],
   "source": [
    "set.add('d')"
   ]
  },
  {
   "cell_type": "code",
   "execution_count": 58,
   "id": "89ff3e2d-5c59-49ad-a340-b8c40598032c",
   "metadata": {
    "tags": []
   },
   "outputs": [
    {
     "ename": "KeyError",
     "evalue": "'e'",
     "output_type": "error",
     "traceback": [
      "\u001b[0;31m---------------------------------------------------------------------------\u001b[0m",
      "\u001b[0;31mKeyError\u001b[0m                                  Traceback (most recent call last)",
      "Cell \u001b[0;32mIn[58], line 1\u001b[0m\n\u001b[0;32m----> 1\u001b[0m \u001b[38;5;28;43mset\u001b[39;49m\u001b[38;5;241;43m.\u001b[39;49m\u001b[43mremove\u001b[49m\u001b[43m(\u001b[49m\u001b[38;5;124;43m'\u001b[39;49m\u001b[38;5;124;43me\u001b[39;49m\u001b[38;5;124;43m'\u001b[39;49m\u001b[43m)\u001b[49m\n",
      "\u001b[0;31mKeyError\u001b[0m: 'e'"
     ]
    }
   ],
   "source": [
    "set.remove('e')"
   ]
  },
  {
   "cell_type": "code",
   "execution_count": 59,
   "id": "e5782ad5-694b-4dfc-a641-0c2dbc12dbc5",
   "metadata": {
    "tags": []
   },
   "outputs": [],
   "source": [
    "set.discard('e')"
   ]
  },
  {
   "cell_type": "code",
   "execution_count": 60,
   "id": "3fe9b30a-e927-4ffe-8d1d-8763cea31f07",
   "metadata": {
    "tags": []
   },
   "outputs": [
    {
     "name": "stdout",
     "output_type": "stream",
     "text": [
      "{'d', 'c', 'b', 'a'}\n"
     ]
    }
   ],
   "source": [
    "print(set)"
   ]
  },
  {
   "cell_type": "code",
   "execution_count": 61,
   "id": "75c484e0-1873-4ecf-98ad-f586990cef78",
   "metadata": {
    "tags": []
   },
   "outputs": [],
   "source": [
    "#set operations"
   ]
  },
  {
   "cell_type": "code",
   "execution_count": 62,
   "id": "9d9197e4-4831-4af5-9524-a54fd71b73cc",
   "metadata": {
    "tags": []
   },
   "outputs": [
    {
     "data": {
      "text/plain": [
       "{'a', 'b', 'c', 'd'}"
      ]
     },
     "execution_count": 62,
     "metadata": {},
     "output_type": "execute_result"
    }
   ],
   "source": [
    "set.union(set2)"
   ]
  },
  {
   "cell_type": "code",
   "execution_count": 63,
   "id": "42ebacf7-3322-47b6-b727-119bd23750ac",
   "metadata": {
    "tags": []
   },
   "outputs": [],
   "source": [
    "set3 = {'g', 'h', 'i'}"
   ]
  },
  {
   "cell_type": "code",
   "execution_count": 64,
   "id": "d1a2c6a0-b45d-4675-a9b6-954d80f764ae",
   "metadata": {
    "tags": []
   },
   "outputs": [
    {
     "data": {
      "text/plain": [
       "{'a', 'b', 'c', 'd', 'g', 'h', 'i'}"
      ]
     },
     "execution_count": 64,
     "metadata": {},
     "output_type": "execute_result"
    }
   ],
   "source": [
    "set.union(set3)"
   ]
  },
  {
   "cell_type": "code",
   "execution_count": 65,
   "id": "87b17bb4-393b-45b5-a59f-5a219fbf46a0",
   "metadata": {
    "tags": []
   },
   "outputs": [
    {
     "data": {
      "text/plain": [
       "set()"
      ]
     },
     "execution_count": 65,
     "metadata": {},
     "output_type": "execute_result"
    }
   ],
   "source": [
    "set.intersection(set3)"
   ]
  },
  {
   "cell_type": "code",
   "execution_count": 67,
   "id": "605ced57-5843-419e-89b0-2abf0e00d070",
   "metadata": {
    "tags": []
   },
   "outputs": [
    {
     "name": "stdout",
     "output_type": "stream",
     "text": [
      "set()\n"
     ]
    }
   ],
   "source": [
    "print(set.intersection(set3))"
   ]
  },
  {
   "cell_type": "code",
   "execution_count": 68,
   "id": "e1309260-3054-4a1a-9eeb-32bf6bf46002",
   "metadata": {
    "tags": []
   },
   "outputs": [],
   "source": [
    "#it showed me nothing because there are no common values between the sets"
   ]
  },
  {
   "cell_type": "code",
   "execution_count": 69,
   "id": "ba5f9669-4d57-45af-b5b8-0cc0e6072c42",
   "metadata": {
    "tags": []
   },
   "outputs": [],
   "source": [
    "set4 = {'a', 'b', 'g'}"
   ]
  },
  {
   "cell_type": "code",
   "execution_count": 70,
   "id": "8e3499a3-4bba-4dca-bb91-790c7afe17ba",
   "metadata": {
    "tags": []
   },
   "outputs": [
    {
     "data": {
      "text/plain": [
       "{'a', 'b'}"
      ]
     },
     "execution_count": 70,
     "metadata": {},
     "output_type": "execute_result"
    }
   ],
   "source": [
    "set.intersection(set4)"
   ]
  },
  {
   "cell_type": "code",
   "execution_count": 71,
   "id": "dbad7bd7-7f1a-4a43-bc45-91cbbc39bbc0",
   "metadata": {
    "tags": []
   },
   "outputs": [
    {
     "data": {
      "text/plain": [
       "{'a', 'b', 'c', 'd'}"
      ]
     },
     "execution_count": 71,
     "metadata": {},
     "output_type": "execute_result"
    }
   ],
   "source": [
    "set.difference(set3)"
   ]
  },
  {
   "cell_type": "code",
   "execution_count": 72,
   "id": "1af1a7c9-8a74-40f2-a95f-2a39081a7d54",
   "metadata": {
    "tags": []
   },
   "outputs": [
    {
     "data": {
      "text/plain": [
       "{'c', 'd'}"
      ]
     },
     "execution_count": 72,
     "metadata": {},
     "output_type": "execute_result"
    }
   ],
   "source": [
    "set.difference(set4)"
   ]
  },
  {
   "cell_type": "code",
   "execution_count": 73,
   "id": "02df509d-4480-4fd8-b67a-368c0a6732dc",
   "metadata": {
    "tags": []
   },
   "outputs": [],
   "source": [
    "#set difference means what are those elements in the first set that are different than the second set"
   ]
  },
  {
   "cell_type": "code",
   "execution_count": 74,
   "id": "736f06d2-1b4d-48c6-9b2f-36fc08abefee",
   "metadata": {
    "tags": []
   },
   "outputs": [],
   "source": [
    "#exercise"
   ]
  },
  {
   "cell_type": "code",
   "execution_count": 75,
   "id": "57e8b9db-0335-4f96-9888-cc8a89f2a409",
   "metadata": {
    "tags": []
   },
   "outputs": [],
   "source": [
    "numbers = {1, 3, 5, 7}\n",
    "numbers2 = {1, 5, 8, 9}"
   ]
  },
  {
   "cell_type": "code",
   "execution_count": 76,
   "id": "a8caaf83-2984-476d-b89f-269d33bb2267",
   "metadata": {
    "tags": []
   },
   "outputs": [
    {
     "data": {
      "text/plain": [
       "{1, 3, 5, 7, 8, 9}"
      ]
     },
     "execution_count": 76,
     "metadata": {},
     "output_type": "execute_result"
    }
   ],
   "source": [
    "numbers.union(numbers2)"
   ]
  },
  {
   "cell_type": "code",
   "execution_count": 77,
   "id": "18360511-0ee3-4697-8c44-a8c6282a817c",
   "metadata": {
    "tags": []
   },
   "outputs": [
    {
     "data": {
      "text/plain": [
       "{1, 5}"
      ]
     },
     "execution_count": 77,
     "metadata": {},
     "output_type": "execute_result"
    }
   ],
   "source": [
    "numbers.intersection(numbers2)"
   ]
  },
  {
   "cell_type": "code",
   "execution_count": 78,
   "id": "71b7b170-9677-4b9f-b6c3-b9978215d0f7",
   "metadata": {
    "tags": []
   },
   "outputs": [
    {
     "data": {
      "text/plain": [
       "{3, 7}"
      ]
     },
     "execution_count": 78,
     "metadata": {},
     "output_type": "execute_result"
    }
   ],
   "source": [
    "numbers.difference(numbers2)"
   ]
  },
  {
   "cell_type": "code",
   "execution_count": 81,
   "id": "42d8c4a9-3915-44cc-aea8-5cf789ddbdcf",
   "metadata": {
    "tags": []
   },
   "outputs": [],
   "source": [
    "#exercise 2"
   ]
  },
  {
   "cell_type": "code",
   "execution_count": 83,
   "id": "d6016ed1-a2de-4bc0-890d-eb47c1c23cbe",
   "metadata": {
    "tags": []
   },
   "outputs": [],
   "source": [
    "ex2 = {1, 'orange', 7, 'red', 7, 1, 4, 4, 3, 6, '4'}"
   ]
  },
  {
   "cell_type": "code",
   "execution_count": 84,
   "id": "528a45bb-c0e9-438b-bbd4-b086df6642b9",
   "metadata": {
    "tags": []
   },
   "outputs": [
    {
     "name": "stdout",
     "output_type": "stream",
     "text": [
      "{1, 3, 4, 'orange', 7, 6, 'red', '4'}\n"
     ]
    }
   ],
   "source": [
    "print(ex2)"
   ]
  },
  {
   "cell_type": "code",
   "execution_count": 85,
   "id": "45b6c1b1-9cda-4a3b-96bd-38cac25c97ce",
   "metadata": {
    "tags": []
   },
   "outputs": [],
   "source": [
    "#dictionaries"
   ]
  },
  {
   "cell_type": "code",
   "execution_count": 87,
   "id": "02409d64-9eda-4d51-805b-e49cac9efed7",
   "metadata": {
    "tags": []
   },
   "outputs": [],
   "source": [
    "dict = {'key1' : 'value1', 'key2' : 'value2', 'orange' : 'banana'}"
   ]
  },
  {
   "cell_type": "code",
   "execution_count": 88,
   "id": "98d9a021-0382-4fc5-a1c6-0c57cf42d6c9",
   "metadata": {
    "tags": []
   },
   "outputs": [],
   "source": [
    "value = dict['key1']"
   ]
  },
  {
   "cell_type": "code",
   "execution_count": 89,
   "id": "aa63c21c-1ba2-4ad5-80f7-ac0681e369ff",
   "metadata": {
    "tags": []
   },
   "outputs": [
    {
     "name": "stdout",
     "output_type": "stream",
     "text": [
      "value1\n"
     ]
    }
   ],
   "source": [
    "print(value)"
   ]
  },
  {
   "cell_type": "code",
   "execution_count": 90,
   "id": "c8478d7d-788f-412f-93fd-ae3edb5035b1",
   "metadata": {
    "tags": []
   },
   "outputs": [
    {
     "name": "stdout",
     "output_type": "stream",
     "text": [
      "key1\n"
     ]
    }
   ],
   "source": [
    "print('key1')"
   ]
  },
  {
   "cell_type": "code",
   "execution_count": 91,
   "id": "cae7f159-eba1-41fe-8d84-26c463a3258f",
   "metadata": {
    "tags": []
   },
   "outputs": [],
   "source": [
    "dict['newkey'] = 'newvalue'"
   ]
  },
  {
   "cell_type": "code",
   "execution_count": 92,
   "id": "65d00c02-a01d-4833-a2e5-09d00dc6b06a",
   "metadata": {
    "tags": []
   },
   "outputs": [
    {
     "data": {
      "text/plain": [
       "{'key1': 'value1', 'key2': 'value2', 'orange': 'banana', 'newkey': 'newvalue'}"
      ]
     },
     "execution_count": 92,
     "metadata": {},
     "output_type": "execute_result"
    }
   ],
   "source": [
    "dict"
   ]
  },
  {
   "cell_type": "code",
   "execution_count": 94,
   "id": "7108c599-5df5-446f-b766-4d0bc3d56275",
   "metadata": {
    "tags": []
   },
   "outputs": [],
   "source": [
    "dict['key1'] = 'value100'"
   ]
  },
  {
   "cell_type": "code",
   "execution_count": 95,
   "id": "2f54e8d9-62d4-482f-a221-f6c9ffc4703d",
   "metadata": {
    "tags": []
   },
   "outputs": [
    {
     "data": {
      "text/plain": [
       "{'key1': 'value100',\n",
       " 'key2': 'value2',\n",
       " 'orange': 'banana',\n",
       " 'newkey': 'newvalue'}"
      ]
     },
     "execution_count": 95,
     "metadata": {},
     "output_type": "execute_result"
    }
   ],
   "source": [
    "dict"
   ]
  },
  {
   "cell_type": "code",
   "execution_count": 96,
   "id": "05da0861-b7b2-4877-898c-d4fe9eb0e030",
   "metadata": {
    "tags": []
   },
   "outputs": [],
   "source": [
    "del dict['key1']"
   ]
  },
  {
   "cell_type": "code",
   "execution_count": 97,
   "id": "82ca631f-51d7-4d97-9270-c6eed895ef49",
   "metadata": {
    "tags": []
   },
   "outputs": [
    {
     "data": {
      "text/plain": [
       "{'key2': 'value2', 'orange': 'banana', 'newkey': 'newvalue'}"
      ]
     },
     "execution_count": 97,
     "metadata": {},
     "output_type": "execute_result"
    }
   ],
   "source": [
    "dict"
   ]
  },
  {
   "cell_type": "code",
   "execution_count": 98,
   "id": "e752c5d1-e89f-4450-b031-bebcc777448a",
   "metadata": {
    "tags": []
   },
   "outputs": [],
   "source": [
    "#keys need to be different from each other in the same dictionary, values can be the same"
   ]
  },
  {
   "cell_type": "code",
   "execution_count": 99,
   "id": "19ef2f04-2950-41b6-8e4d-4655002b238a",
   "metadata": {
    "tags": []
   },
   "outputs": [
    {
     "data": {
      "text/plain": [
       "dict_keys(['key2', 'orange', 'newkey'])"
      ]
     },
     "execution_count": 99,
     "metadata": {},
     "output_type": "execute_result"
    }
   ],
   "source": [
    "dict.keys()"
   ]
  },
  {
   "cell_type": "code",
   "execution_count": 100,
   "id": "d58a57ff-f2a3-43b2-ab4f-5155101bbe61",
   "metadata": {
    "tags": []
   },
   "outputs": [
    {
     "data": {
      "text/plain": [
       "dict_values(['value2', 'banana', 'newvalue'])"
      ]
     },
     "execution_count": 100,
     "metadata": {},
     "output_type": "execute_result"
    }
   ],
   "source": [
    "dict.values()"
   ]
  },
  {
   "cell_type": "code",
   "execution_count": 101,
   "id": "583571c5-a9b3-4445-b1b7-6a4f54f0b9c7",
   "metadata": {
    "tags": []
   },
   "outputs": [
    {
     "data": {
      "text/plain": [
       "dict_items([('key2', 'value2'), ('orange', 'banana'), ('newkey', 'newvalue')])"
      ]
     },
     "execution_count": 101,
     "metadata": {},
     "output_type": "execute_result"
    }
   ],
   "source": [
    "dict.items()"
   ]
  },
  {
   "cell_type": "code",
   "execution_count": 102,
   "id": "34e9fadf-117a-49fa-a00b-7950bb74916d",
   "metadata": {
    "tags": []
   },
   "outputs": [],
   "source": [
    "#exercise 1"
   ]
  },
  {
   "cell_type": "code",
   "execution_count": 103,
   "id": "008fbce0-6e44-4c2e-b444-0c8e1bcdbabb",
   "metadata": {
    "tags": []
   },
   "outputs": [],
   "source": [
    "statecap = {'ca' : 'sacramento', 'ark' : 'little rock', 'mass' : 'boston'}"
   ]
  },
  {
   "cell_type": "code",
   "execution_count": 106,
   "id": "08f50b50-ffc3-4b03-b9c2-617a5c894e9d",
   "metadata": {
    "tags": []
   },
   "outputs": [],
   "source": [
    "californiacap = statecap['ca']"
   ]
  },
  {
   "cell_type": "code",
   "execution_count": 107,
   "id": "83bd1b82-a0c3-4f69-875f-4a2dcb66bbfa",
   "metadata": {
    "tags": []
   },
   "outputs": [
    {
     "data": {
      "text/plain": [
       "'sacramento'"
      ]
     },
     "execution_count": 107,
     "metadata": {},
     "output_type": "execute_result"
    }
   ],
   "source": [
    "californiacap"
   ]
  },
  {
   "cell_type": "code",
   "execution_count": 108,
   "id": "9893a85e-a0d8-4b27-8109-4ff8b3798924",
   "metadata": {
    "tags": []
   },
   "outputs": [],
   "source": [
    "#exercise 2"
   ]
  },
  {
   "cell_type": "code",
   "execution_count": 111,
   "id": "781692a8-0f64-4240-9f15-408ab6b627c6",
   "metadata": {
    "tags": []
   },
   "outputs": [],
   "source": [
    "statecap['texas'] = 'austin'"
   ]
  },
  {
   "cell_type": "code",
   "execution_count": 112,
   "id": "2c9d4360-7f21-4dd1-9151-f2cb9d8f4da9",
   "metadata": {
    "tags": []
   },
   "outputs": [
    {
     "ename": "SyntaxError",
     "evalue": "cannot delete literal (1641122177.py, line 1)",
     "output_type": "error",
     "traceback": [
      "\u001b[0;36m  Cell \u001b[0;32mIn[112], line 1\u001b[0;36m\u001b[0m\n\u001b[0;31m    del 'ca'\u001b[0m\n\u001b[0m        ^\u001b[0m\n\u001b[0;31mSyntaxError\u001b[0m\u001b[0;31m:\u001b[0m cannot delete literal\n"
     ]
    }
   ],
   "source": [
    "del 'ca'"
   ]
  },
  {
   "cell_type": "code",
   "execution_count": 115,
   "id": "6474f281-e70d-42fb-b5ef-eb874c0f6d87",
   "metadata": {
    "tags": []
   },
   "outputs": [],
   "source": [
    "del statecap['ca']"
   ]
  },
  {
   "cell_type": "code",
   "execution_count": 116,
   "id": "f77b41ee-1043-4aa8-a742-3746e4f2e346",
   "metadata": {
    "tags": []
   },
   "outputs": [
    {
     "name": "stdout",
     "output_type": "stream",
     "text": [
      "{'ark': 'little rock', 'mass': 'boston', 'texas': 'austin'}\n"
     ]
    }
   ],
   "source": [
    "print(statecap)"
   ]
  },
  {
   "cell_type": "code",
   "execution_count": null,
   "id": "3e5a28b2-b05c-4389-8427-08b694320d8a",
   "metadata": {},
   "outputs": [],
   "source": []
  }
 ],
 "metadata": {
  "kernelspec": {
   "display_name": "Python 3 (ipykernel)",
   "language": "python",
   "name": "python3"
  },
  "language_info": {
   "codemirror_mode": {
    "name": "ipython",
    "version": 3
   },
   "file_extension": ".py",
   "mimetype": "text/x-python",
   "name": "python",
   "nbconvert_exporter": "python",
   "pygments_lexer": "ipython3",
   "version": "3.10.9"
  }
 },
 "nbformat": 4,
 "nbformat_minor": 5
}
